{
 "cells": [
  {
   "cell_type": "markdown",
   "metadata": {},
   "source": [
    "## Generating Q&A"
   ]
  },
  {
   "cell_type": "code",
   "execution_count": null,
   "metadata": {},
   "outputs": [],
   "source": [
    "import asyncio\n",
    "import nest_asyncio\n",
    "from groq import AsyncGroq\n",
    "import pandas as pd\n",
    "import os\n",
    "from aiohttp import ClientResponseError\n",
    "import time\n",
    "import re\n",
    "from tqdm import tqdm \n",
    "import json"
   ]
  },
  {
   "cell_type": "code",
   "execution_count": null,
   "metadata": {},
   "outputs": [],
   "source": [
    "nest_asyncio.apply()\n",
    "client = AsyncGroq(api_key='')\n",
    "\n",
    "questions_prompt = \"\"\"You are a helpful assistant. You will receive an article and the title related to Embedded Linux, the Linux kernel, U-boot or a vendor-specific documentation. Your objective is to output a valid list of strings with three questions that could be answer EXCLUSIVELY with the content of the article. These questions must be deeply technical and refer to the intricacies of what is refered on the article text\n",
    "\n",
    "===============================================\n",
    "Example 1)\n",
    "\n",
    "\n",
    "title: \"Introduction to Device Tree\"\n",
    "article_text: \"Device Tree is a data structure for describing hardware. It is used by the Linux kernel to manage the hardware it runs on. The Device Tree source can be compiled into a binary format. Device Tree provides a way to describe the peripherals of a system, such as memory, CPUs, and buses, without hardcoding these descriptions in the operating system code.\"\n",
    "\n",
    "output: ['1. What is Device Tree?', '2. How is the Device Tree source compiled?', '3. What does Device Tree describe in a system?']\n",
    "\n",
    "Example 2)\n",
    "\n",
    "title: \"Understanding U-Boot\",\n",
    "article_text: \"U-Boot is a boot loader used in embedded devices to package the instructions to boot the device's operating system kernel. It supports multiple filesystems, network booting, and various hardware platforms. U-Boot is highly configurable and can be customized for different hardware architectures and requirements.\"\n",
    "\n",
    "output: ['1. What is U-Boot?', '2. What functionalities does U-Boot support?', '3. How can U-Boot be customized?']\n",
    "\n",
    "Example 3)\n",
    "\n",
    "title: \"Linux Kernel Overview\",\n",
    "article_text: \"The Linux kernel is the core component of the Linux operating system. It manages the system's hardware, runs user programs, and provides services to the software. The kernel handles process management, memory management, hardware device control, and system calls.\"\n",
    "\n",
    "output: ['1. What is the Linux kernel?', '2. What is the Linux Kernel for?', '3. How does the Linux kernel manage hardware devices?']\n",
    "===============================================\n",
    "\n",
    "The output MUST be on the schema below:\n",
    "\n",
    "['1. Question 1', '2. Question 2', '3. Question 3']\n",
    "\n",
    "Do not add any text, explanation or extra element to the output. THE OUTPUT MUST BE SOLELY THE LIST\n",
    "\"\"\"\n",
    "\n",
    "categories_prompt = \"\"\"\n",
    "You are a helpful assistant. You will receive an article and the title related to Embedded Linux, the Linux kernel, U-boot or a vendor-specific documentation. Your objective is to output a valid list of strings with one or two labels/categories that you can infer EXCLUSIVELY with the content of the article and title. These labels must be related to the embedded Linux area, hardware, electronics, Linux, vendors, etc.\n",
    "\n",
    "===============================================\n",
    "Example 1)\n",
    "\n",
    "\n",
    "title: \"Introduction to Device Tree\"\n",
    "article_text: \"Device Tree is a data structure for describing hardware. It is used by the Linux kernel to manage the hardware it runs on. The Device Tree source can be compiled into a binary format. Device Tree provides a way to describe the peripherals of a system, such as memory, CPUs, and buses, without hardcoding these descriptions in the operating system code.\"\n",
    "\n",
    "output: ['Device Tree']\n",
    "\n",
    "Example 2)\n",
    "\n",
    "title: \"Understanding U-Boot\",\n",
    "article_text: \"U-Boot is a boot loader used in embedded devices to package the instructions to boot the device's operating system kernel. It supports multiple filesystems, network booting, and various hardware platforms. U-Boot is highly configurable and can be customized for different hardware architectures and requirements.\"\n",
    "\n",
    "output: ['U-Boot', 'Bootloader']\n",
    "\n",
    "Example 3)\n",
    "\n",
    "title: \"Linux Kernel Overview\",\n",
    "article_text: \"The Linux kernel is the core component of the Linux operating system. It manages the system's hardware, runs user programs, and provides services to the software. The kernel handles process management, memory management, hardware device control, and system calls.\"\n",
    "\n",
    "output: ['Linux kernel', 'Device Drivers']\n",
    "===============================================\n",
    "\n",
    "The output MUST be on the schema below:\n",
    "\n",
    "['Category 1', 'Category 2']\n",
    "\n",
    "Do not add any text, explanation or extra element to the output. THE OUTPUT MUST BE SOLELY THE LIST\n",
    "\"\"\""
   ]
  },
  {
   "cell_type": "code",
   "execution_count": null,
   "metadata": {},
   "outputs": [],
   "source": [
    "async def groq_completion(title, article, prompt):\n",
    "    result = await client.chat.completions.create(\n",
    "        messages=[\n",
    "            {\n",
    "                \"role\": \"system\",\n",
    "                \"content\": prompt,\n",
    "            },\n",
    "            {\n",
    "                \"role\": \"user\",\n",
    "                \"content\": f\"title: {title} | article: {article}\",\n",
    "            }\n",
    "        ],\n",
    "        model=\"llama3-70b-8192\",\n",
    "        temperature=0.1,\n",
    "        max_tokens=1024,\n",
    "        top_p=1,\n",
    "        stop=None,\n",
    "        stream=False,\n",
    "        seed=100,\n",
    "    )\n",
    "    return eval(result.choices[0].message.content)\n",
    "\n",
    "async def groq_completion_with_retry(title, article, prompt, retries=8):\n",
    "    for attempt in range(retries):\n",
    "        try:\n",
    "            result = await groq_completion(title, article, prompt)\n",
    "            return result\n",
    "        except Exception as e:\n",
    "            error_message = str(e)\n",
    "            if \"rate_limit_exceeded\" in error_message:\n",
    "                wait_time_match = re.search(r'Please try again in (\\d+)m(\\d+\\.\\d+)s', error_message)\n",
    "                if wait_time_match:\n",
    "                    minutes = int(wait_time_match.group(1))\n",
    "                    seconds = float(wait_time_match.group(2))\n",
    "                    wait_time = minutes * 60 + seconds\n",
    "                    print(f\"Rate limit exceeded. Waiting for {wait_time} seconds before retrying.\")\n",
    "                else:\n",
    "                    wait_time = 2 ** (attempt + 1)  # exponential backoff as fallback\n",
    "                    print(f\"Rate limit exceeded. Retrying in {wait_time} seconds (attempt {attempt + 1}/{retries})\")\n",
    "            else:\n",
    "                wait_time = 2 ** (attempt + 1)  # exponential backoff for other errors\n",
    "                print(f\"Retry {attempt + 1}/{retries} after exception: {str(e)}\")\n",
    "            await asyncio.sleep(wait_time)\n",
    "    raise Exception(f\"Failed after {retries} attempts\")"
   ]
  },
  {
   "cell_type": "code",
   "execution_count": null,
   "metadata": {},
   "outputs": [],
   "source": [
    "dataset_path = os.path.join('..', '..', 'dataset', 'deduplicated_dataset.json')\n",
    "\n",
    "data = pd.read_json(dataset_path, lines=True)"
   ]
  },
  {
   "cell_type": "code",
   "execution_count": null,
   "metadata": {},
   "outputs": [],
   "source": [
    "def save_progress_to_json(results, filename='final_results.json'):\n",
    "    with open(filename, 'w') as f:\n",
    "        json.dump(results, f, indent=4)\n",
    "\n",
    "def load_progress_from_json(filename='final_results.json'):\n",
    "    if os.path.exists(filename):\n",
    "        with open(filename, 'r') as f:\n",
    "            return json.load(f)\n",
    "    return []\n",
    "\n",
    "results = []"
   ]
  },
  {
   "cell_type": "code",
   "execution_count": null,
   "metadata": {},
   "outputs": [],
   "source": [
    "async def process_row(index, row):\n",
    "    title = row['title']\n",
    "    article = row['article_text']\n",
    "\n",
    "    result = {\n",
    "        'title': title,\n",
    "        'article_text': article,\n",
    "        'questions': [],\n",
    "        'labels': []\n",
    "    }\n",
    "\n",
    "    try:\n",
    "        result['questions'] = await groq_completion_with_retry(title, article, questions_prompt)\n",
    "    except Exception as e:\n",
    "        print(f\"An unexpected error occurred (questions): {str(e)}\")\n",
    "\n",
    "    try:\n",
    "        result['labels'] = await groq_completion_with_retry(title, article, categories_prompt)\n",
    "    except Exception as e:\n",
    "        print(f\"An unexpected error occurred (labels): {str(e)}\")\n",
    "\n",
    "    return result\n",
    "\n",
    "async def process_rows_in_batches(data, start_index, batch_size=10):\n",
    "    total_batches = (len(data) - start_index) // batch_size + 1\n",
    "    pbar = tqdm(total=total_batches, desc=\"Generating questions and labels\", initial=start_index // batch_size)\n",
    "    \n",
    "    for i in range(start_index, len(data), batch_size):\n",
    "        batch = data.iloc[i:i+batch_size]\n",
    "        tasks = [process_row(index, row) for index, row in batch.iterrows()]\n",
    "        results_batch = await asyncio.gather(*tasks, return_exceptions=True)\n",
    "\n",
    "        # Append results and save progress\n",
    "        results.extend(results_batch)\n",
    "        save_progress_to_json(results)\n",
    "\n",
    "        # Update the progress bar\n",
    "        pbar.update(1)\n",
    "\n",
    "    pbar.close()"
   ]
  },
  {
   "cell_type": "code",
   "execution_count": null,
   "metadata": {},
   "outputs": [],
   "source": [
    "results = load_progress_from_json()\n",
    "start_index = len(results)\n",
    "start_index"
   ]
  },
  {
   "cell_type": "code",
   "execution_count": 20,
   "metadata": {},
   "outputs": [
    {
     "name": "stderr",
     "output_type": "stream",
     "text": [
      "Generating questions and labels:  41%|████▏     | 161/390 [00:00<?, ?it/s]"
     ]
    },
    {
     "name": "stdout",
     "output_type": "stream",
     "text": [
      "Retry 1/8 after exception: unterminated string literal (detected at line 1) (<string>, line 1)\n",
      "Rate limit exceeded. Waiting for 81.286999999 seconds before retrying.\n",
      "Rate limit exceeded. Waiting for 89.253999999 seconds before retrying.\n",
      "Rate limit exceeded. Waiting for 77.179 seconds before retrying.\n",
      "Retry 3/8 after exception: unterminated string literal (detected at line 1) (<string>, line 1)\n",
      "Retry 4/8 after exception: unterminated string literal (detected at line 1) (<string>, line 1)\n",
      "Retry 5/8 after exception: unterminated string literal (detected at line 1) (<string>, line 1)\n",
      "Retry 6/8 after exception: unterminated string literal (detected at line 1) (<string>, line 1)\n",
      "Retry 7/8 after exception: unterminated string literal (detected at line 1) (<string>, line 1)\n",
      "Retry 8/8 after exception: unterminated string literal (detected at line 1) (<string>, line 1)\n",
      "An unexpected error occurred (questions): Failed after 8 attempts\n"
     ]
    },
    {
     "name": "stderr",
     "output_type": "stream",
     "text": [
      "Generating questions and labels:  42%|████▏     | 162/390 [09:58<37:53:49, 598.37s/it]"
     ]
    },
    {
     "name": "stdout",
     "output_type": "stream",
     "text": [
      "Rate limit exceeded. Waiting for 63.525 seconds before retrying.\n",
      "Rate limit exceeded. Retrying in 2 seconds (attempt 1/8)\n",
      "Rate limit exceeded. Retrying in 2 seconds (attempt 1/8)\n"
     ]
    },
    {
     "name": "stderr",
     "output_type": "stream",
     "text": [
      "Generating questions and labels:  42%|████▏     | 163/390 [12:06<20:18:02, 321.95s/it]"
     ]
    },
    {
     "name": "stdout",
     "output_type": "stream",
     "text": [
      "Rate limit exceeded. Retrying in 2 seconds (attempt 1/8)\n",
      "Rate limit exceeded. Retrying in 2 seconds (attempt 1/8)\n",
      "Rate limit exceeded. Retrying in 2 seconds (attempt 1/8)\n",
      "Rate limit exceeded. Retrying in 2 seconds (attempt 1/8)\n",
      "Rate limit exceeded. Retrying in 2 seconds (attempt 1/8)\n",
      "Rate limit exceeded. Retrying in 2 seconds (attempt 1/8)\n",
      "Rate limit exceeded. Retrying in 2 seconds (attempt 1/8)\n",
      "Rate limit exceeded. Retrying in 4 seconds (attempt 2/8)\n",
      "Rate limit exceeded. Retrying in 4 seconds (attempt 2/8)\n",
      "Rate limit exceeded. Retrying in 4 seconds (attempt 2/8)\n",
      "Rate limit exceeded. Retrying in 4 seconds (attempt 2/8)\n",
      "Rate limit exceeded. Retrying in 4 seconds (attempt 2/8)\n",
      "Rate limit exceeded. Retrying in 4 seconds (attempt 2/8)\n",
      "Rate limit exceeded. Retrying in 2 seconds (attempt 1/8)\n",
      "Rate limit exceeded. Retrying in 8 seconds (attempt 3/8)\n",
      "Rate limit exceeded. Retrying in 8 seconds (attempt 3/8)\n",
      "Rate limit exceeded. Retrying in 8 seconds (attempt 3/8)\n",
      "Rate limit exceeded. Retrying in 8 seconds (attempt 3/8)\n",
      "Rate limit exceeded. Retrying in 4 seconds (attempt 2/8)\n",
      "Rate limit exceeded. Retrying in 8 seconds (attempt 3/8)\n"
     ]
    },
    {
     "name": "stderr",
     "output_type": "stream",
     "text": [
      "Generating questions and labels:  42%|████▏     | 164/390 [15:31<16:51:13, 268.47s/it]"
     ]
    },
    {
     "name": "stdout",
     "output_type": "stream",
     "text": [
      "Rate limit exceeded. Retrying in 2 seconds (attempt 1/8)\n",
      "Rate limit exceeded. Retrying in 2 seconds (attempt 1/8)\n",
      "Rate limit exceeded. Retrying in 2 seconds (attempt 1/8)\n",
      "Rate limit exceeded. Retrying in 2 seconds (attempt 1/8)\n",
      "Rate limit exceeded. Retrying in 2 seconds (attempt 1/8)\n",
      "Rate limit exceeded. Retrying in 2 seconds (attempt 1/8)\n",
      "Rate limit exceeded. Retrying in 2 seconds (attempt 1/8)\n",
      "Rate limit exceeded. Retrying in 4 seconds (attempt 2/8)\n",
      "Rate limit exceeded. Retrying in 4 seconds (attempt 2/8)\n",
      "Rate limit exceeded. Retrying in 2 seconds (attempt 1/8)\n",
      "Rate limit exceeded. Retrying in 8 seconds (attempt 3/8)\n",
      "Rate limit exceeded. Retrying in 4 seconds (attempt 2/8)\n",
      "Rate limit exceeded. Retrying in 4 seconds (attempt 2/8)\n",
      "Rate limit exceeded. Retrying in 4 seconds (attempt 2/8)\n",
      "Rate limit exceeded. Retrying in 8 seconds (attempt 3/8)\n",
      "Rate limit exceeded. Retrying in 8 seconds (attempt 3/8)\n"
     ]
    },
    {
     "name": "stderr",
     "output_type": "stream",
     "text": [
      "Generating questions and labels:  42%|████▏     | 165/390 [18:22<14:22:35, 230.03s/it]"
     ]
    },
    {
     "name": "stdout",
     "output_type": "stream",
     "text": [
      "Rate limit exceeded. Retrying in 2 seconds (attempt 1/8)\n",
      "Rate limit exceeded. Retrying in 2 seconds (attempt 1/8)\n",
      "Rate limit exceeded. Retrying in 2 seconds (attempt 1/8)\n",
      "Rate limit exceeded. Retrying in 2 seconds (attempt 1/8)\n",
      "Rate limit exceeded. Retrying in 2 seconds (attempt 1/8)\n",
      "Rate limit exceeded. Retrying in 2 seconds (attempt 1/8)\n",
      "Rate limit exceeded. Retrying in 2 seconds (attempt 1/8)\n",
      "Rate limit exceeded. Retrying in 2 seconds (attempt 1/8)\n",
      "Rate limit exceeded. Retrying in 4 seconds (attempt 2/8)\n",
      "Rate limit exceeded. Retrying in 4 seconds (attempt 2/8)\n",
      "Rate limit exceeded. Retrying in 4 seconds (attempt 2/8)\n",
      "Rate limit exceeded. Retrying in 2 seconds (attempt 1/8)\n",
      "Rate limit exceeded. Retrying in 4 seconds (attempt 2/8)\n",
      "Rate limit exceeded. Retrying in 4 seconds (attempt 2/8)\n",
      "Rate limit exceeded. Retrying in 4 seconds (attempt 2/8)\n",
      "Rate limit exceeded. Retrying in 2 seconds (attempt 1/8)\n",
      "Rate limit exceeded. Retrying in 8 seconds (attempt 3/8)\n",
      "Rate limit exceeded. Retrying in 8 seconds (attempt 3/8)\n",
      "Rate limit exceeded. Retrying in 8 seconds (attempt 3/8)\n",
      "Rate limit exceeded. Retrying in 4 seconds (attempt 2/8)\n",
      "Rate limit exceeded. Retrying in 16 seconds (attempt 4/8)\n",
      "Retry 5/8 after exception: unterminated string literal (detected at line 1) (<string>, line 1)\n",
      "Retry 6/8 after exception: unterminated string literal (detected at line 1) (<string>, line 1)\n",
      "Retry 7/8 after exception: unterminated string literal (detected at line 1) (<string>, line 1)\n"
     ]
    }
   ],
   "source": [
    "asyncio.run(process_rows_in_batches(data, start_index))\n",
    "save_progress_to_json(results, filename='final_results.json')"
   ]
  }
 ],
 "metadata": {
  "kernelspec": {
   "display_name": "elrond-dataset-MHTID03v-py3.10",
   "language": "python",
   "name": "python3"
  },
  "language_info": {
   "codemirror_mode": {
    "name": "ipython",
    "version": 3
   },
   "file_extension": ".py",
   "mimetype": "text/x-python",
   "name": "python",
   "nbconvert_exporter": "python",
   "pygments_lexer": "ipython3",
   "version": "3.10.12"
  }
 },
 "nbformat": 4,
 "nbformat_minor": 2
}
