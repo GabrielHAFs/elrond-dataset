{
 "cells": [
  {
   "cell_type": "markdown",
   "metadata": {},
   "source": [
    "# Webscraping"
   ]
  },
  {
   "cell_type": "code",
   "execution_count": null,
   "metadata": {},
   "outputs": [],
   "source": [
    "import sys, os\n",
    "from scrapy.crawler import CrawlerProcess\n",
    "from scrapy.utils.project import get_project_settings\n",
    "\n",
    "elrond_scraper_path = os.path.join(os.getcwd(), '../../', 'elrondScraper')\n",
    "sys.path.append(elrond_scraper_path)\n",
    "\n",
    "from elrondScraper.spiders.dataset_spyder import ToradexSpider, ELinuxSpider, DocsSpider, YoctoSpider"
   ]
  },
  {
   "cell_type": "code",
   "execution_count": null,
   "metadata": {},
   "outputs": [],
   "source": [
    "process = CrawlerProcess({\n",
    "    'FEED_FORMAT': 'json',\n",
    "    'FEED_URI': '../../datset/scraped_raw/tdx_dataset.json',\n",
    "    'LOG_LEVEL': 'INFO',\n",
    "    **get_project_settings()\n",
    "})\n",
    "process.crawl(ToradexSpider)\n",
    "process.start()"
   ]
  },
  {
   "cell_type": "code",
   "execution_count": null,
   "metadata": {},
   "outputs": [],
   "source": [
    "process = CrawlerProcess({\n",
    "    'FEED_FORMAT': 'json',\n",
    "    'FEED_URI': '../../datset/scraped_raw/tdx_dataset.json',\n",
    "    'LOG_LEVEL': 'INFO',\n",
    "    **get_project_settings()\n",
    "})\n",
    "process.crawl(ELinuxSpider)\n",
    "process.start()"
   ]
  },
  {
   "cell_type": "code",
   "execution_count": null,
   "metadata": {},
   "outputs": [],
   "source": [
    "process = CrawlerProcess({\n",
    "    'FEED_FORMAT': 'json',\n",
    "    'FEED_URI': '../../datset/scraped_raw/tdx_dataset.json',\n",
    "    'LOG_LEVEL': 'INFO',\n",
    "    **get_project_settings()\n",
    "})\n",
    "process.crawl(DocsSpider)\n",
    "process.start()"
   ]
  },
  {
   "cell_type": "code",
   "execution_count": null,
   "metadata": {},
   "outputs": [],
   "source": [
    "process = CrawlerProcess({\n",
    "    'FEED_FORMAT': 'json',\n",
    "    'FEED_URI': '../../datset/scraped_raw/yocto_dataset.json',\n",
    "    'LOG_LEVEL': 'INFO',\n",
    "    **get_project_settings()\n",
    "})\n",
    "process.crawl(YoctoSpider)\n",
    "process.start()"
   ]
  }
 ],
 "metadata": {
  "kernelspec": {
   "display_name": "elrond-dataset-MHTID03v-py3.10",
   "language": "python",
   "name": "python3"
  },
  "language_info": {
   "codemirror_mode": {
    "name": "ipython",
    "version": 3
   },
   "file_extension": ".py",
   "mimetype": "text/x-python",
   "name": "python",
   "nbconvert_exporter": "python",
   "pygments_lexer": "ipython3",
   "version": "3.10.12"
  }
 },
 "nbformat": 4,
 "nbformat_minor": 2
}
