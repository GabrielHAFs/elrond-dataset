{
 "cells": [
  {
   "cell_type": "code",
   "execution_count": null,
   "metadata": {},
   "outputs": [],
   "source": [
    "%pip install langchain-pinecone"
   ]
  },
  {
   "cell_type": "code",
   "execution_count": 8,
   "metadata": {},
   "outputs": [
    {
     "data": {
      "text/plain": [
       "'4e291d9c-27e4-438e-b424-57a7ea0ba08a'"
      ]
     },
     "execution_count": 8,
     "metadata": {},
     "output_type": "execute_result"
    }
   ],
   "source": [
    "from pinecone import Pinecone\n",
    "from langchain_pinecone import PineconeVectorStore\n",
    "from langchain.embeddings import HuggingFaceEmbeddings\n",
    "import os\n",
    "import pandas as pd\n",
    "from langchain.schema import Document\n",
    "from langchain_text_splitters import RecursiveCharacterTextSplitter\n",
    "from tqdm import tqdm\n",
    "from langchain_groq import ChatGroq\n",
    "\n",
    "os.environ['PINECONE_API_KEY'] = \"\"\n",
    "pinecone_api_key = os.environ.get(\"PINECONE_API_KEY\")\n",
    "pinecone_api_key"
   ]
  },
  {
   "cell_type": "code",
   "execution_count": 9,
   "metadata": {},
   "outputs": [],
   "source": [
    "# Define the relative path to the JSON file\n",
    "relative_path = os.path.join('.', 'final_results.json')\n",
    "text_splitter = RecursiveCharacterTextSplitter(chunk_size=2000, chunk_overlap=200)\n",
    "# Load the JSON file into a DataFrame\n",
    "data = pd.read_json(relative_path)\n",
    "\n",
    "documents = [\n",
    "    Document(\n",
    "        page_content=row['article_text'],\n",
    "        metadata={\n",
    "            'title': row['title'],\n",
    "        }\n",
    "    )\n",
    "    for _, row in data.iterrows()\n",
    "]"
   ]
  },
  {
   "cell_type": "code",
   "execution_count": 10,
   "metadata": {},
   "outputs": [
    {
     "name": "stderr",
     "output_type": "stream",
     "text": [
      "Splitting documents: 100%|██████████| 1741/1741 [00:00<00:00, 1848.55it/s]\n"
     ]
    }
   ],
   "source": [
    "# Initialize an empty list to hold the split documents\n",
    "split_documents = []\n",
    "\n",
    "# Split the article texts and create documents\n",
    "for _, row in tqdm(data.iterrows(), total=data.shape[0], desc=\"Splitting documents\"):\n",
    "    article_text = row['article_text']\n",
    "    title = row['title'] if pd.notnull(row['title']) else \"\"\n",
    "    chunks = text_splitter.split_text(article_text)\n",
    "    \n",
    "    for chunk in chunks:\n",
    "        split_documents.append(\n",
    "            Document(\n",
    "                page_content=chunk,\n",
    "                metadata={'title': title}\n",
    "            )\n",
    "        )"
   ]
  },
  {
   "cell_type": "code",
   "execution_count": 11,
   "metadata": {},
   "outputs": [
    {
     "name": "stderr",
     "output_type": "stream",
     "text": [
      "/home/gabss/.cache/pypoetry/virtualenvs/elrond-dataset-MHTID03v-py3.10/lib/python3.10/site-packages/huggingface_hub/file_download.py:1132: FutureWarning: `resume_download` is deprecated and will be removed in version 1.0.0. Downloads always resume when possible. If you want to force a new download, use `force_download=True`.\n",
      "  warnings.warn(\n"
     ]
    }
   ],
   "source": [
    "# Initialize Pinecone\n",
    "pc = Pinecone(api_key=pinecone_api_key)\n",
    "\n",
    "# Connect to the Pinecone index\n",
    "index_name = \"elrond-index\"\n",
    "index = pc.Index(index_name)\n",
    "\n",
    "embeddings = HuggingFaceEmbeddings(model_name=\"sentence-transformers/all-MiniLM-L6-v2\")\n",
    "vectorstore = PineconeVectorStore.from_documents(split_documents, embeddings, pinecone_api_key=pinecone_api_key, index_name=index_name )"
   ]
  },
  {
   "cell_type": "code",
   "execution_count": 24,
   "metadata": {},
   "outputs": [
    {
     "data": {
      "text/plain": [
       "[Document(page_content='\\n\\nU-Boot\\n \\n\\nIntroduction\\n U-Boot is an open-source bootloader commonly used in embedded devices. It has its origins in a very simple bootloader designed for the PowerPC architecture which was publicly released in 2000 under the name of PPCBoot. Shortly thereafter it was renamed U-Boot (short for Das Universal Boot) to reflect its evolution into a multi architectural bootloader. Today, U-Boot is a fully-fledged bootloader supporting more than a dozen architectures, several filesystems, and a handful of interfaces. It features a console interface through the serial port with low-level commands and environment variables that provide high flexibility when configuring the boot process. The most remarkable achievement, however, is its good driver assortment, which has established it as the preferred bootloader for most embedded platforms. Toradex also uses U-Boot as the bootloader for its images. You can find the code in our repositories. This article explains how to manage the console and the environment variables in a running U-Boot so that you are able to troubleshoot, modify, or set up your own booting configuration. To learn how to build your own U-Boot version, please refer to Build U-Boot and Linux Kernel from Source Code. \\n\\nRequirements\\n In order to access the U-Boot console, you obviously need a running U-Boot in your module. A running U-Boot is automatically available if you have: \\n\\nThe U-Boot Console\\n When U-Boot is running in RAM, it sends its output through the primary Full Function (FF) UART (usually UART_A). The Colibri and Apalis evaluation boards route this UART through a USB to Serial converter to a USB B connector or through a TTL to RS232 converter to a DB9 connector (see Colibri Evaluation Board, Apalis Evaluation Board). The Iris Board routes this UART through a TTL to RS232 converter to a header (see Serial Adapter Cable on Iris). While U-Boot\\'s console output is also visible on the parallel RGB display (and with the carrier boards RAMDAC on VGA) a USB keyboard directly connected to the module does not work as of yet. In order to visualize the serial output from a host machine, a serial port reader program such as minicom or PuTTy is commonly set to read the corresponding USB serial port (e.g. in Linux /dev/ttyUSB*). For detailed information on how to set up and configure the serial port on your host machine see our Quickstart Guide.  Once you can read the output from your host machine, the U-Boot Console can be easily accessed by pressing any button before the autoboot sequence starts. By default, U-Boot waits up to 3 seconds before starting the autoboot sequence. The following is an extract of what the console shows when U-Boot is initialized and autoboot is prevented by entering into the console. \\n\\nU-Boot Variables\\n \\n\\nEnvironment Variables\\n Environment variables are key-value pairs of strings that are used by U-Boot as configuration or to execute commands. The following table lists the most important environment variables and their default values: To list all currently set variables, issue the command printenv in the U-Boot console. Some variables, such as arch or vidargs contain information needed for configuration. Others such as scan_dev_for_boot and bootcmd also contain commands (run, echo, etc) that can be run.  To print the value of a single variable, use printenv <variable>. \\n\\nDevice Tree Filename (fdtfile)\\n To update (or modify) the fdtfile variable, you can use one of the supported device trees shown in the diagram below, or create your own.  To read more about Device Trees, refer to Device Tree Customization article. To update/change the value of the variable fdtfile, as further explained on the section Creating and Modifying Variables, you can either set a new device tree on fdtfile, or set a different board at fdt_board. For example: However, this expected behavior does not work on BSP 6.x.y, as you can see on the output below.  The situation happens because the fdtfile variable is automatically set by the preboot u-boot script, so if the fdtfile variable is already setup on the saved environment, the preboot script will not touch it. Then, if you want to use the fdt_board mechanism to change the carrier board, delete the fdtfile before saving the environment so that the override is not present upon boot: And your output result should be something like: \\n\\nDistroboot Variables\\n Distro Boot is an informal name that refers to the Generic Distro Configuration Concept that U-Boot developers came up with around 2014. When Distro Boot is enabled in U-Boot, you can boot any supported distribution for your platform simply by placing an image in a conveniently partitioned removable device with the corresponding boot configuration file. The Distro Boot article describes the procedure to boot images through the Distro Boot mechanism. This list contains only variables used in the boot script. \\n\\nInternal Variables\\n \\n\\nCreating and Modifying Variables\\n One of the most important things is to know how to set or modify a variable value. Setting a value for an existing variable is done using the command setenv <variable> <value>. In the previous example, you can see that the variable fdt_board contains the default string \"eval-v3\", which was modified to \"aster\" using the setenv command.  Either way, you can create a new variable using the command setenv and, following the same process as explained before, add and change its value. Also, you can expand the value of a variable inside the definition of another variable by prepending $ to it. You must enclose the value of the variable with \\' \\' if you don\\'t want to expand other variables or if multiple statements are given. Changing an existing variable, as mentioned before, requires the use of setenv. On the other side, changing some of those environment parameters may require the definition inside the definition of internal variables (as you can see in the description in the table above) or, incase of kernel parameters, tdxargs.The following variables are appended at the end of bootcmd_args and are used when the system is booted: For example, to override the content of the variable console as well as the baudrate, you have to define console and baudrate inside setupargs, like the following example: \\n\\nSaving the Environment\\n Using setenv to create or modify variables will only add or change their values in RAM. If you want to make changes permanent they need to be stored in flash with the saveenv command: If you now reboot your system, the variable myvar from the previous example will be defined in U-Boot. \\n\\nResetting the Environment to the Defaults\\n If you want to discard any changes you made to the environment with saveenv, you can always return to the default values with env default -a. \\n\\nExecuting the commands in a variable\\n Variables may contain commands that are executable by U-Boot such as echo, ls or reset. To list the available commands type help in the console. To execute a variable containing commands, use run <variable>. The best example of variable execution happens on autoboot. Autoboot basically executes the boot command, which essentially calls run bootcmd. bootcmd is a variable that contains other commands and other variables that contain further commands in a way that resembles the execution of a shell script. \\n\\nWarning - bad CRC, using default environment\\n You may see the following message during boot: This is most probably not an issue. The flash sector containing the environment variables is not initialized yet. Save the environment variables using the saveenv command and the message will go away. Source: https://www.denx.de/wiki/view/DULG/WarningBadCRCUsingDefaultEnvironment (archived) \\n\\nHandling and Re-creating Toradex Config Block (cfgblock) on U-Boot\\n The cfgblock command is responsible to handle Toradex config block operations. If you stop the boot process and type cfgblock you can see all the options available: \\n\\ncfgblock create\\n The command cfgblock create is responsible to re-create the config block. If you type the command in U-Boot, just follow the steps printed in your terminal, as you can see in the example below for Apalis iMX6Q.', metadata={'questions': ['1. What is U-Boot?', '2. How can U-Boot be accessed on a Toradex module?', '3. What is the purpose of the fdtfile variable in U-Boot?'], 'title': 'U-Boot | Toradex Developer Center'}),\n",
       " Document(page_content='U-Boot\\n \\n\\nIntroduction\\n U-Boot is an open-source bootloader commonly used in embedded devices. It has its origins in a very simple bootloader designed for the PowerPC architecture which was publicly released in 2000 under the name of PPCBoot. Shortly thereafter it was renamed U-Boot (short for Das Universal Boot) to reflect its evolution into a multi architectural bootloader. Today, U-Boot is a fully-fledged bootloader supporting more than a dozen architectures, several filesystems, and a handful of interfaces. It features a console interface through the serial port with low-level commands and environment variables that provide high flexibility when configuring the boot process. The most remarkable achievement, however, is its good driver assortment, which has established it as the preferred bootloader for most embedded platforms. Toradex also uses U-Boot as the bootloader for its images. You can find the code in our repositories. This article explains how to manage the console and the environment variables in a running U-Boot so that you are able to troubleshoot, modify, or set up your own booting configuration. To learn how to build your own U-Boot version, please refer to Build U-Boot and Linux Kernel from Source Code. \\n\\nRequirements\\n In order to access the U-Boot console, you obviously need a running U-Boot in your module. A running U-Boot is automatically available if you have:', metadata={'title': 'U-Boot | Toradex Developer Center'}),\n",
       " Document(page_content='\\n\\nU-Boot\\n \\n\\nIntroduction\\n U-Boot is an open-source bootloader commonly used in embedded devices. It has its origins in a very simple bootloader designed for the PowerPC architecture which was publicly released in 2000 under the name of PPCBoot. Shortly thereafter it was renamed U-Boot (short for Das Universal Boot) to reflect its evolution into a multi architectural bootloader. Today, U-Boot is a fully-fledged bootloader supporting more than a dozen architectures, several filesystems, and a handful of interfaces. It features a console interface through the serial port with low-level commands and environment variables that provide high flexibility when configuring the boot process. The most remarkable achievement, however, is its good driver assortment, which has established it as the preferred bootloader for most embedded platforms. Toradex also uses U-Boot as the bootloader for its images. You can find the code in our repositories. This article explains how to manage the console and the environment variables in a running U-Boot so that you are able to troubleshoot, modify, or set up your own booting configuration. To learn how to build your own U-Boot version, please refer to Build U-Boot and Linux Kernel from Source Code. \\n\\nRequirements\\n In order to access the U-Boot console, you obviously need a running U-Boot in your module. A running U-Boot is automatically available if you have: \\n\\nThe U-Boot Console\\n When U-Boot is running in RAM, it sends its output through the primary Full Function (FF) UART (usually UART_A). The Colibri and Apalis evaluation boards route this UART through a USB to Serial converter to a USB B connector or through a TTL to RS232 converter to a DB9 connector (see Colibri Evaluation Board, Apalis Evaluation Board). The Iris Board routes this UART through a TTL to RS232 converter to a header (see Serial Adapter Cable on Iris). While U-Boot\\'s console output is also visible on the parallel RGB display (and with the carrier boards RAMDAC on VGA) a USB keyboard directly connected to the module does not work as of yet. In order to visualize the serial output from a host machine, a serial port reader program such as minicom or PuTTy is commonly set to read the corresponding USB serial port (e.g. in Linux /dev/ttyUSB*). For detailed information on how to set up and configure the serial port on your host machine see our Quickstart Guide.  Once you can read the output from your host machine, the U-Boot Console can be easily accessed by pressing any button before the autoboot sequence starts. By default, U-Boot waits up to 3 seconds before starting the autoboot sequence. The following is an extract of what the console shows when U-Boot is initialized and autoboot is prevented by entering into the console. \\n\\nU-Boot Variables\\n \\n\\nEnvironment Variables\\n Environment variables are key-value pairs of strings that are used by U-Boot as configuration or to execute commands. The following table lists the most important environment variables and their default values: To list all currently set variables, issue the command printenv in the U-Boot console. Some variables, such as arch or vidargs contain information needed for configuration. Others such as scan_dev_for_boot and bootcmd also contain commands (run, echo, etc) that can be run.  To print the value of a single variable, use printenv <variable>. \\n\\nDevice Tree Filename (fdtfile)\\n To update (or modify) the fdtfile variable, you can use one of the supported device trees shown in the diagram below, or create your own.  To read more about Device Trees, refer to Device Tree Customization article. To update/change the value of the variable fdtfile, as further explained on the section Creating and Modifying Variables, you can either set a new device tree on fdtfile, or set a different board at fdt_board. For example: However, this expected behavior does not work on BSP 6.x.y, as you can see on the output below.  The situation happens because the fdtfile variable is automatically set by the preboot u-boot script, so if the fdtfile variable is already setup on the saved environment, the preboot script will not touch it. Then, if you want to use the fdt_board mechanism to change the carrier board, delete the fdtfile before saving the environment so that the override is not present upon boot: And your output result should be something like: \\n\\nDistroboot Variables\\n Distro Boot is an informal name that refers to the Generic Distro Configuration Concept that U-Boot developers came up with around 2014. When Distro Boot is enabled in U-Boot, you can boot any supported distribution for your platform simply by placing an image in a conveniently partitioned removable device with the corresponding boot configuration file. The Distro Boot article describes the procedure to boot images through the Distro Boot mechanism. This list contains only variables used in the boot script. \\n\\nInternal Variables\\n \\n\\nCreating and Modifying Variables\\n One of the most important things is to know how to set or modify a variable value. Setting a value for an existing variable is done using the command setenv <variable> <value>. In the previous example, you can see that the variable fdt_board contains the default string \"eval-v3\", which was modified to \"aster\" using the setenv command.  Either way, you can create a new variable using the command setenv and, following the same process as explained before, add and change its value. Also, you can expand the value of a variable inside the definition of another variable by prepending $ to it. You must enclose the value of the variable with \\' \\' if you don\\'t want to expand other variables or if multiple statements are given. Changing an existing variable, as mentioned before, requires the use of setenv. On the other side, changing some of those environment parameters may require the definition inside the definition of internal variables (as you can see in the description in the table above) or, incase of kernel parameters, tdxargs.The following variables are appended at the end of bootcmd_args and are used when the system is booted: For example, to override the content of the variable console as well as the baudrate, you have to define console and baudrate inside setupargs, like the following example: \\n\\nSaving the Environment\\n Using setenv to create or modify variables will only add or change their values in RAM. If you want to make changes permanent they need to be stored in flash with the saveenv command: If you now reboot your system, the variable myvar from the previous example will be defined in U-Boot. \\n\\nResetting the Environment to the Defaults\\n If you want to discard any changes you made to the environment with saveenv, you can always return to the default values with env default -a. \\n\\nExecuting the commands in a variable\\n Variables may contain commands that are executable by U-Boot such as echo, ls or reset. To list the available commands type help in the console. To execute a variable containing commands, use run <variable>. The best example of variable execution happens on autoboot. Autoboot basically executes the boot command, which essentially calls run bootcmd. bootcmd is a variable that contains other commands and other variables that contain further commands in a way that resembles the execution of a shell script. \\n\\nWarning - bad CRC, using default environment\\n You may see the following message during boot: This is most probably not an issue. The flash sector containing the environment variables is not initialized yet. Save the environment variables using the saveenv command and the message will go away. Source: https://www.denx.de/wiki/view/DULG/WarningBadCRCUsingDefaultEnvironment (archived) \\n\\nHandling and Re-creating Toradex Config Block (cfgblock) on U-Boot\\n The cfgblock command is responsible to handle Toradex config block operations. If you stop the boot process and type cfgblock you can see all the options available: \\n\\ncfgblock create\\n The command cfgblock create is responsible to re-create the config block. If you type the command in U-Boot, just follow the steps printed in your terminal, as you can see in the example below for Apalis iMX6Q.', metadata={'title': 'U-Boot | Toradex Developer Center'}),\n",
       " Document(page_content='\\n\\nU-Boot\\n \\n\\nIntroduction\\n U-Boot is an open-source bootloader commonly used in embedded devices. It has its origins in a very simple bootloader designed for the PowerPC architecture which was publicly released in 2000 under the name of PPCBoot. Shortly thereafter it was renamed U-Boot (short for Das Universal Boot) to reflect its evolution into a multi architectural bootloader. Today, U-Boot is a fully-fledged bootloader supporting more than a dozen architectures, several filesystems, and a handful of interfaces. It features a console interface through the serial port with low-level commands and environment variables that provide high flexibility when configuring the boot process. The most remarkable achievement, however, is its good driver assortment, which has established it as the preferred bootloader for most embedded platforms. Toradex also uses U-Boot as the bootloader for its images. You can find the code in our repositories. This article explains how to manage the console and the environment variables in a running U-Boot so that you are able to troubleshoot, modify, or set up your own booting configuration. To learn how to build your own U-Boot version, please refer to Build U-Boot and Linux Kernel from Source Code. \\n\\nRequirements\\n In order to access the U-Boot console, you obviously need a running U-Boot in your module. A running U-Boot is automatically available if you have: \\n\\nThe U-Boot Console\\n When U-Boot is running in RAM, it sends its output through the primary Full Function (FF) UART (usually UART_A). The Colibri and Apalis evaluation boards route this UART through a USB to Serial converter to a USB B connector or through a TTL to RS232 converter to a DB9 connector (see Colibri Evaluation Board, Apalis Evaluation Board). The Iris Board routes this UART through a TTL to RS232 converter to a header (see Serial Adapter Cable on Iris). While U-Boot\\'s console output is also visible on the parallel RGB display (and with the carrier boards RAMDAC on VGA) a USB keyboard directly connected to the module does not work as of yet. In order to visualize the serial output from a host machine, a serial port reader program such as minicom or PuTTy is commonly set to read the corresponding USB serial port (e.g. in Linux /dev/ttyUSB*). For detailed information on how to set up and configure the serial port on your host machine see our Quickstart Guide.  Once you can read the output from your host machine, the U-Boot Console can be easily accessed by pressing any button before the autoboot sequence starts. By default, U-Boot waits up to 3 seconds before starting the autoboot sequence. The following is an extract of what the console shows when U-Boot is initialized and autoboot is prevented by entering into the console. \\n\\nU-Boot Variables\\n \\n\\nEnvironment Variables\\n Environment variables are key-value pairs of strings that are used by U-Boot as configuration or to execute commands. The following table lists the most important environment variables and their default values: To list all currently set variables, issue the command printenv in the U-Boot console. Some variables, such as arch or vidargs contain information needed for configuration. Others such as scan_dev_for_boot and bootcmd also contain commands (run, echo, etc) that can be run.  To print the value of a single variable, use printenv <variable>. \\n\\nDevice Tree Filename (fdtfile)\\n To update (or modify) the fdtfile variable, you can use one of the supported device trees shown in the diagram below, or create your own.  To read more about Device Trees, refer to Device Tree Customization article. To update/change the value of the variable fdtfile, as further explained on the section Creating and Modifying Variables, you can either set a new device tree on fdtfile, or set a different board at fdt_board. For example: However, this expected behavior does not work on BSP 6.x.y, as you can see on the output below.  The situation happens because the fdtfile variable is automatically set by the preboot u-boot script, so if the fdtfile variable is already setup on the saved environment, the preboot script will not touch it. Then, if you want to use the fdt_board mechanism to change the carrier board, delete the fdtfile before saving the environment so that the override is not present upon boot: And your output result should be something like: \\n\\nDistroboot Variables\\n Distro Boot is an informal name that refers to the Generic Distro Configuration Concept that U-Boot developers came up with around 2014. When Distro Boot is enabled in U-Boot, you can boot any supported distribution for your platform simply by placing an image in a conveniently partitioned removable device with the corresponding boot configuration file. The Distro Boot article describes the procedure to boot images through the Distro Boot mechanism. This list contains only variables used in the boot script. \\n\\nInternal Variables\\n \\n\\nCreating and Modifying Variables\\n One of the most important things is to know how to set or modify a variable value. Setting a value for an existing variable is done using the command setenv <variable> <value>. In the previous example, you can see that the variable fdt_board contains the default string \"eval-v3\", which was modified to \"aster\" using the setenv command.  Either way, you can create a new variable using the command setenv and, following the same process as explained before, add and change its value. Also, you can expand the value of a variable inside the definition of another variable by prepending $ to it. You must enclose the value of the variable with \\' \\' if you don\\'t want to expand other variables or if multiple statements are given. Changing an existing variable, as mentioned before, requires the use of setenv. On the other side, changing some of those environment parameters may require the definition inside the definition of internal variables (as you can see in the description in the table above) or, incase of kernel parameters, tdxargs.The following variables are appended at the end of bootcmd_args and are used when the system is booted: For example, to override the content of the variable console as well as the baudrate, you have to define console and baudrate inside setupargs, like the following example: \\n\\nSaving the Environment\\n Using setenv to create or modify variables will only add or change their values in RAM. If you want to make changes permanent they need to be stored in flash with the saveenv command: If you now reboot your system, the variable myvar from the previous example will be defined in U-Boot. \\n\\nResetting the Environment to the Defaults\\n If you want to discard any changes you made to the environment with saveenv, you can always return to the default values with env default -a. \\n\\nExecuting the commands in a variable\\n Variables may contain commands that are executable by U-Boot such as echo, ls or reset. To list the available commands type help in the console. To execute a variable containing commands, use run <variable>. The best example of variable execution happens on autoboot. Autoboot basically executes the boot command, which essentially calls run bootcmd. bootcmd is a variable that contains other commands and other variables that contain further commands in a way that resembles the execution of a shell script. \\n\\nWarning - bad CRC, using default environment\\n You may see the following message during boot: This is most probably not an issue. The flash sector containing the environment variables is not initialized yet. Save the environment variables using the saveenv command and the message will go away. Source: https://www.denx.de/wiki/view/DULG/WarningBadCRCUsingDefaultEnvironment (archived) \\n\\nHandling and Re-creating Toradex Config Block (cfgblock) on U-Boot\\n The cfgblock command is responsible to handle Toradex config block operations. If you stop the boot process and type cfgblock you can see all the options available: \\n\\ncfgblock create\\n The command cfgblock create is responsible to re-create the config block. If you type the command in U-Boot, just follow the steps printed in your terminal, as you can see in the example below for Apalis iMX6Q.', metadata={'title': 'U-Boot | Toradex Developer Center'}),\n",
       " Document(page_content='Boot overview', metadata={'title': 'Boot overview | Toradex Developer Center'}),\n",
       " Document(page_content='Boot Overview', metadata={'title': 'Boot Overview | Toradex Developer Center'})]"
      ]
     },
     "execution_count": 24,
     "metadata": {},
     "output_type": "execute_result"
    }
   ],
   "source": [
    "query = \"What is U-boot?\"\n",
    "\n",
    "retriever = vectorstore.as_retriever(search_type=\"similarity\", search_kwargs={\"k\": 6})\n",
    "retrieved_docs = retriever.invoke(query)\n",
    "\n",
    "llm = ChatGroq(model=\"llama3-70b-8192\")\n",
    "prompt = \"\"\"\n",
    "You are an assistant for question-answering tasks specifically on Embedded Linux and its components like U-boot, Linux kernel, hardware and software stack. \n",
    "Use the following pieces of retrieved context to answer the question. \n",
    "If you don't know the answer, just say that you don't know. Answer the questions with 512 words top.\n",
    "\n",
    "Question: {question} \n",
    "\n",
    "Context: {context} \n",
    "\n",
    "Answer:\n",
    "\"\"\""
   ]
  },
  {
   "cell_type": "code",
   "execution_count": null,
   "metadata": {},
   "outputs": [],
   "source": []
  }
 ],
 "metadata": {
  "kernelspec": {
   "display_name": "elrond-dataset-MHTID03v-py3.10",
   "language": "python",
   "name": "python3"
  },
  "language_info": {
   "codemirror_mode": {
    "name": "ipython",
    "version": 3
   },
   "file_extension": ".py",
   "mimetype": "text/x-python",
   "name": "python",
   "nbconvert_exporter": "python",
   "pygments_lexer": "ipython3",
   "version": "3.10.12"
  }
 },
 "nbformat": 4,
 "nbformat_minor": 2
}
